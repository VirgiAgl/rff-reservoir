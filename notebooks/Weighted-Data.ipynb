{
 "cells": [
  {
   "cell_type": "markdown",
   "metadata": {},
   "source": [
    "# Constructing a subset from weighted samples\n",
    "\n",
    "The algorithm can easily be adapted to select a subset from a weighted set of points.\n",
    "\n",
    "In this example we look at a set of points which are drawn from a univariate Gaussian, but with associated weights such that the weighted distribution corresponds to a mixture of two Gaussians.\n",
    "\n",
    "Running the subset selection algorithm chooses a small *unweighted* set of points, approximating the distribution of the weighted points."
   ]
  },
  {
   "cell_type": "code",
   "execution_count": 1,
   "metadata": {
    "collapsed": false
   },
   "outputs": [],
   "source": [
    "import numpy as np\n",
    "import matplotlib.pyplot as plt\n",
    "import sys\n",
    "from scipy import stats\n",
    "\n",
    "sys.path.insert(0, '../src')\n",
    "\n",
    "import subsample, herding, rptree, rff\n",
    "%matplotlib inline"
   ]
  },
  {
   "cell_type": "code",
   "execution_count": 2,
   "metadata": {
    "collapsed": false
   },
   "outputs": [],
   "source": [
    "np.random.seed(1)\n",
    "\n",
    "N = int(1e5)+1\n",
    "\n",
    "def proposal():\n",
    "    return np.random.randn()*3\n",
    "\n",
    "normpdf = stats.norm(0,1).pdf\n",
    "\n",
    "def set_weight(x):\n",
    "    value = np.log(0.3*normpdf((x+0.5)/2) + 0.7*normpdf((x-3.5)/0.5))\n",
    "    proposal = np.log(normpdf((x/3.0)))\n",
    "    return value - proposal\n",
    "\n",
    "stream = np.array([[proposal()] for a in xrange(N)])\n",
    "stream_weights = np.array([set_weight(x) for x in stream]).ravel()"
   ]
  },
  {
   "cell_type": "markdown",
   "metadata": {},
   "source": [
    "## Plot the data\n",
    "\n",
    "The blue line shows a histogram of all the points in the stream of data.\n",
    "\n",
    "Each point also has an associated weight, which we interperet as an unnormalized log probability. The corresponding distribution of *weighted* samples is shown in the beige histogram."
   ]
  },
  {
   "cell_type": "code",
   "execution_count": 3,
   "metadata": {
    "collapsed": false
   },
   "outputs": [
    {
     "data": {
      "image/png": "[encoded data removed]",
      "text/plain": [
       "<matplotlib.figure.Figure at 0x10e550c50>"
      ]
     },
     "metadata": {},
     "output_type": "display_data"
    }
   ],
   "source": [
    "plt.figure(figsize=(7,4))\n",
    "plt.hist(stream, weights=np.exp(stream_weights), bins=100, normed=True, alpha=0.4, color='y', linewidth=0.0)\n",
    "plt.xlim([-8,8])\n",
    "plt.hist(stream, normed=True, alpha=0.5, color='b', histtype='step', bins=100);\n",
    "plt.legend(['unweighted', 'weighted'], loc='best');"
   ]
  },
  {
   "cell_type": "markdown",
   "metadata": {},
   "source": [
    "## Selecting a subset\n",
    "\n",
    "Here we explore what happens if we choose to select 2, 3, 5, or 8 total points to approximate the weighted distribution.\n",
    "\n",
    "In the plot (at the bottom of the notebook), we show on the vertical axis how this converges in each case, when more of the points from the weighted stream of data are considered."
   ]
  },
  {
   "cell_type": "code",
   "execution_count": 4,
   "metadata": {
    "collapsed": false
   },
   "outputs": [],
   "source": [
    "D = 200\n",
    "dim = stream[0].shape[0]\n",
    "\n",
    "\n",
    "def systematic_resample(log_weights):\n",
    "    A = log_weights.max()\n",
    "    normalizer = np.log(np.exp(log_weights - A).sum()) + A\n",
    "    weights = np.exp(log_weights - normalizer)\n",
    "    ns = len(weights)\n",
    "    cdf = np.cumsum(weights)\n",
    "    cutoff = (np.random.rand() + np.arange(ns))/ns\n",
    "    return np.digitize(cutoff, cdf)\n",
    "\n",
    "resampled_stream = stream[systematic_resample(stream_weights[:50])]\n",
    "lengthscale = rff.median_heuristic(resampled_stream[:50])/2\n",
    "phi = rff.RFF(D, dim, lengthscale)"
   ]
  },
  {
   "cell_type": "code",
   "execution_count": 5,
   "metadata": {
    "collapsed": false
   },
   "outputs": [
    {
     "name": "stdout",
     "output_type": "stream",
     "text": [
      "\n",
      "\n",
      "M = 8\n",
      "Size of subsample: 8\n",
      "Number of items: 8\n",
      "Each item dimension: 200\n",
      "Tree depth: 1\n",
      "Expected number of points at leaf: 4.0\n",
      "snapshot: 10\n",
      "snapshot: 100\n",
      "snapshot: 1000\n",
      "snapshot: 10000\n",
      "snapshot: 100000\n",
      "\n",
      "\n",
      "M = 2\n",
      "Size of subsample: 2\n",
      "Number of items: 2\n",
      "Each item dimension: 200\n",
      "Tree depth: 0\n",
      "Expected number of points at leaf: 2.0\n",
      "snapshot: 10\n",
      "snapshot: 100\n",
      "snapshot: 1000\n",
      "snapshot: 10000\n",
      "snapshot: 100000\n",
      "\n",
      "\n",
      "M = 3\n",
      "Size of subsample: 3\n",
      "Number of items: 3\n",
      "Each item dimension: 200\n",
      "Tree depth: 0\n",
      "Expected number of points at leaf: 3.0\n",
      "snapshot: 10\n",
      "snapshot: 100\n",
      "snapshot: 1000\n",
      "snapshot: 10000\n",
      "snapshot: 100000\n",
      "\n",
      "\n",
      "M = 5\n",
      "Size of subsample: 5\n",
      "Number of items: 5\n",
      "Each item dimension: 200\n",
      "Tree depth: 1\n",
      "Expected number of points at leaf: 2.5\n",
      "snapshot: 10\n",
      "snapshot: 100\n",
      "snapshot: 1000\n",
      "snapshot: 10000\n",
      "snapshot: 100000\n"
     ]
    }
   ],
   "source": [
    "snapshots = {2: [], 3: [], 5: [], 8: []}\n",
    "for M in snapshots.keys():\n",
    "    \n",
    "    print \"\\n\\nM =\",M\n",
    "    initial_points = stream[:M]\n",
    "    subsampler = subsample.TreeSubsampler(initial_points, phi)\n",
    "    for i in xrange(M, len(stream)):\n",
    "        subsampler.consider(stream[i], log_weight=stream_weights[i])\n",
    "        if np.log10(i) == int(np.log10(i)): # or np.log10(i*2) == int(np.log10(i*2)):\n",
    "            print \"snapshot:\", i\n",
    "            snapshots[M].append((i, np.array(subsampler.points.ravel())))\n"
   ]
  },
  {
   "cell_type": "code",
   "execution_count": 6,
   "metadata": {
    "collapsed": false,
    "scrolled": false
   },
   "outputs": [
    {
     "data": {
      "image/png": "[encoded data removed]",
      "text/plain": [
       "<matplotlib.figure.Figure at 0x10e5f1610>"
      ]
     },
     "metadata": {},
     "output_type": "display_data"
    }
   ],
   "source": [
    "num_checkpoints = len(snapshots[M])\n",
    "\n",
    "plt.figure(figsize=(16,8))\n",
    "for j, M in enumerate(sorted(snapshots.keys())):\n",
    "#     print \"processing\",j,\"M=\",M\n",
    "    splits = np.linspace(100./(M),100-100.0/(M), M-1)\n",
    "    percentiles = np.percentile(resampled_stream, splits)\n",
    "#     print \"splits:\", splits.round(0)\n",
    "    for i, data in enumerate(snapshots[M]):\n",
    "        ns, points = data\n",
    "        assert len(snapshots[M]) == num_checkpoints\n",
    "        gridpoint = i*len(snapshots)+j+1\n",
    "        plt.subplot(num_checkpoints,len(snapshots), gridpoint)\n",
    "#         print \"plotting at location\", gridpoint,\"ns=\",ns\n",
    "        plt.hist(stream, weights=np.exp(stream_weights), bins=100, normed=True, linewidth=0.0, alpha=0.4, color='#3399cc', label='data');\n",
    "        plt.plot(np.vstack((points, points)), 0.2*np.vstack((np.zeros(len(percentiles)), np.ones(len(percentiles)))), 'r-', linewidth=2.0);\n",
    "        ylm = plt.ylim()\n",
    "        xlm = plt.xlim(-6,6)\n",
    "        plt.plot(np.vstack((percentiles, percentiles)), 1*np.vstack((np.zeros(len(percentiles)), np.ones(len(percentiles)))), 'g--', linewidth=1.0);\n",
    "        plt.xlim(xlm)\n",
    "        plt.ylim(ylm)\n",
    "        plt.xticks([])\n",
    "        plt.yticks([])\n",
    "        if j == 0:\n",
    "            plt.ylabel(\"After $10^%d$ points\" % int(np.log10(ns)))\n",
    "        if i == num_checkpoints-1:\n",
    "            plt.xlabel(\"Subset size %d\" % M)\n",
    "    \n",
    "plt.tight_layout();"
   ]
  }
 ],
 "metadata": {
  "kernelspec": {
   "display_name": "Python 2",
   "language": "python",
   "name": "python2"
  },
  "language_info": {
   "codemirror_mode": {
    "name": "ipython",
    "version": 2
   },
   "file_extension": ".py",
   "mimetype": "text/x-python",
   "name": "python",
   "nbconvert_exporter": "python",
   "pygments_lexer": "ipython2",
   "version": "2.7.11"
  }
 },
 "nbformat": 4,
 "nbformat_minor": 0
}
